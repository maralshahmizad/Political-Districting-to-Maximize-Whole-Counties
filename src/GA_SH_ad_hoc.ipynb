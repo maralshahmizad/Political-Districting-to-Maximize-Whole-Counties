{
 "cells": [
  {
   "cell_type": "code",
   "execution_count": 1,
   "id": "5bd83fcf-0be8-4919-aeb1-ea10c8bfbb4c",
   "metadata": {},
   "outputs": [],
   "source": [
    "state = 'GA'\n",
    "level = 'block'\n",
    "district_type = 'SH'"
   ]
  },
  {
   "cell_type": "code",
   "execution_count": 2,
   "id": "ac6a948c-e1ca-4e77-996d-b76f7e7742f5",
   "metadata": {},
   "outputs": [
    {
     "name": "stdout",
     "output_type": "stream",
     "text": [
      "Starting GA with k = 180 and deviation = 0.1\n",
      "Thus, we have L = 56536 and U = 62486\n"
     ]
    }
   ],
   "source": [
    "filepath = 'C:\\\\districting-data-2020-conn\\\\'\n",
    "filename = state + '_' + level + '.json'\n",
    "\n",
    "from utils import read_graph_from_json, update_attributes, get_k_L_U\n",
    "\n",
    "G = read_graph_from_json( filepath + filename )\n",
    "update_attributes(G, state)\n",
    "(k, L, U) = get_k_L_U(G, state, district_type)"
   ]
  },
  {
   "cell_type": "code",
   "execution_count": 3,
   "id": "bcc9b283-6aab-4705-9942-4fe9a17cb030",
   "metadata": {},
   "outputs": [
    {
     "name": "stdout",
     "output_type": "stream",
     "text": [
      "WARNING: edge (36268, 211989) has no shared_perim value. Assuming shared_perim = 0.\n",
      "WARNING: edge (41946, 227629) has no shared_perim value. Assuming shared_perim = 0.\n",
      "WARNING: edge (58140, 156972) has no shared_perim value. Assuming shared_perim = 0.\n",
      "WARNING: edge (82524, 168231) has no shared_perim value. Assuming shared_perim = 0.\n",
      "WARNING: edge (83937, 141013) has no shared_perim value. Assuming shared_perim = 0.\n",
      "WARNING: edge (144936, 231189) has no shared_perim value. Assuming shared_perim = 0.\n"
     ]
    }
   ],
   "source": [
    "from coarsen import graph_coarsen_by_county\n",
    "(GC, partition) = graph_coarsen_by_county(G)"
   ]
  },
  {
   "cell_type": "code",
   "execution_count": 4,
   "id": "0f316a7e-fbd3-45f7-859c-ae50beee56db",
   "metadata": {},
   "outputs": [
    {
     "name": "stdout",
     "output_type": "stream",
     "text": [
      "Set parameter Username\n",
      "Academic license - for non-commercial use only - expires 2026-04-01\n",
      "Set parameter OutputFlag to value 1\n",
      "for i = 0, remaining_pop = 10245296, requiring at least 164 districts.\n",
      "Symmetry breaking stabilizes 4 districts using conflicting whole counties and 164 districts in split counties.\n",
      "Set parameter LazyConstraints to value 1\n",
      "Set parameter MIPGap to value 0.34\n",
      "Gurobi Optimizer version 12.0.2 build v12.0.2rc0 (win64 - Windows 11.0 (26100.2))\n",
      "\n",
      "CPU model: 13th Gen Intel(R) Core(TM) i9-13900K, instruction set [SSE2|AVX|AVX2]\n",
      "Thread count: 24 physical cores, 32 logical processors, using up to 32 threads\n",
      "\n",
      "Non-default parameters:\n",
      "MIPGap  0.34\n",
      "LazyConstraints  1\n",
      "\n",
      "Optimize a model with 13182 rows, 6869 columns and 47704 nonzeros\n",
      "Model fingerprint: 0x5c4261e9\n",
      "Variable types: 1620 continuous, 5249 integer (5240 binary)\n",
      "Coefficient statistics:\n",
      "  Matrix range     [1e+00, 1e+07]\n",
      "  Objective range  [1e+00, 1e+00]\n",
      "  Bounds range     [1e+00, 2e+02]\n",
      "  RHS range        [1e+00, 6e+04]\n",
      "Presolve removed 12781 rows and 6480 columns\n",
      "Presolve time: 0.01s\n",
      "\n",
      "Explored 0 nodes (0 simplex iterations) in 0.03 seconds (0.01 work units)\n",
      "Thread count was 1 (of 32 available processors)\n",
      "\n",
      "Solution count 0\n",
      "No other solutions better than -1e+100\n",
      "\n",
      "Model is infeasible\n",
      "Best objective -, best bound -, gap -\n",
      "\n",
      "User-callback calls 121, time in user-callback 0.00 sec\n",
      "Gurobi Optimizer version 12.0.2 build v12.0.2rc0 (win64 - Windows 11.0 (26100.2))\n",
      "\n",
      "CPU model: 13th Gen Intel(R) Core(TM) i9-13900K, instruction set [SSE2|AVX|AVX2]\n",
      "Thread count: 24 physical cores, 32 logical processors, using up to 32 threads\n",
      "\n",
      "Non-default parameters:\n",
      "MIPGap  0.34\n",
      "LazyConstraints  1\n",
      "\n",
      "Optimize a model with 13161 rows, 6869 columns and 44095 nonzeros\n",
      "Model fingerprint: 0x6f4b74a5\n",
      "Variable types: 1620 continuous, 5249 integer (5240 binary)\n",
      "Coefficient statistics:\n",
      "  Matrix range     [1e+00, 1e+07]\n",
      "  Objective range  [1e+00, 1e+00]\n",
      "  Bounds range     [1e+00, 2e+02]\n",
      "  RHS range        [1e+00, 6e+04]\n",
      "Presolve removed 12646 rows and 6539 columns\n",
      "Presolve time: 0.02s\n",
      "\n",
      "Explored 0 nodes (0 simplex iterations) in 0.04 seconds (0.01 work units)\n",
      "Thread count was 1 (of 32 available processors)\n",
      "\n",
      "Solution count 0\n",
      "No other solutions better than -1e+100\n",
      "\n",
      "Model is infeasible\n",
      "Best objective -, best bound -, gap -\n",
      "\n",
      "User-callback calls 194, time in user-callback 0.00 sec\n"
     ]
    }
   ],
   "source": [
    "# ad-hoc inequality for GA/SH says must split one of:\n",
    "# Brooks 13027\n",
    "# Colquitt 13071\n",
    "# Cook 13075\n",
    "# Grady 13131\n",
    "# Mitchell 13205\n",
    "# Thomas 13275\n",
    "# Tift 13277\n",
    "# Worth 13321\n",
    "W_fips = {'13027', '13071', '13075', '13131', '13205', '13275', '13277', '13321'}\n",
    "W = [ i for i in GC.nodes if GC.nodes[i]['GEOID20'] in W_fips ]\n",
    "\n",
    "from sketch_for_max_whole import sketch\n",
    "soln = sketch(GC, L, U, k, whole_counties=W, verbose=True)\n",
    "\n",
    "assert soln == 'infeasible'"
   ]
  },
  {
   "cell_type": "code",
   "execution_count": 5,
   "id": "dc7ac730-a2fd-40bb-ad00-7117d30598be",
   "metadata": {},
   "outputs": [
    {
     "name": "stdout",
     "output_type": "stream",
     "text": [
      "Set parameter OutputFlag to value 1\n",
      "Gurobi Optimizer version 12.0.2 build v12.0.2rc0 (win64 - Windows 11.0 (26100.2))\n",
      "\n",
      "CPU model: 13th Gen Intel(R) Core(TM) i9-13900K, instruction set [SSE2|AVX|AVX2]\n",
      "Thread count: 24 physical cores, 32 logical processors, using up to 32 threads\n",
      "\n",
      "Optimize a model with 41 rows, 159 columns and 55 nonzeros\n",
      "Model fingerprint: 0x31cd31db\n",
      "Variable types: 0 continuous, 159 integer (159 binary)\n",
      "Coefficient statistics:\n",
      "  Matrix range     [1e+00, 1e+00]\n",
      "  Objective range  [1e+00, 1e+06]\n",
      "  Bounds range     [1e+00, 1e+00]\n",
      "  RHS range        [7e+00, 7e+00]\n",
      "\n",
      "---------------------------------------------------------------------------\n",
      "Multi-objectives: starting optimization with 2 objectives... \n",
      "---------------------------------------------------------------------------\n",
      "\n",
      "Multi-objectives: applying initial presolve...\n",
      "---------------------------------------------------------------------------\n",
      "\n",
      "Presolve removed 40 rows and 39 columns\n",
      "Presolve time: 0.00s\n",
      "Presolved: 1 rows, 120 columns, 8 nonzeros\n",
      "\n",
      "Multi-objectives: optimize objective 1 () ...\n",
      "---------------------------------------------------------------------------\n",
      "\n",
      "Found heuristic solution: objective 119.0000000\n",
      "Presolve removed 1 rows and 120 columns\n",
      "Presolve time: 0.00s\n",
      "Presolve: All rows and columns removed\n",
      "\n",
      "Explored 0 nodes (0 simplex iterations) in 0.04 seconds (0.00 work units)\n",
      "Thread count was 1 (of 32 available processors)\n",
      "\n",
      "Solution count 1: 119 \n",
      "\n",
      "Optimal solution found (tolerance 1.00e-04)\n",
      "Best objective 1.190000000000e+02, best bound 1.190000000000e+02, gap 0.0000%\n",
      "---------------------------------------------------------------------------\n",
      "\n",
      "Multi-objectives: optimize objective 2 () ...\n",
      "---------------------------------------------------------------------------\n",
      "\n",
      "\n",
      "Loaded user MIP start with objective 8.41128e+06\n",
      "\n",
      "Presolve removed 2 rows and 120 columns\n",
      "Presolve time: 0.00s\n",
      "Presolve: All rows and columns removed\n",
      "\n",
      "Explored 0 nodes (0 simplex iterations) in 0.05 seconds (0.00 work units)\n",
      "Thread count was 1 (of 32 available processors)\n",
      "\n",
      "Solution count 2: 8.41583e+06 8.41128e+06 \n",
      "\n",
      "Optimal solution found (tolerance 1.00e-04)\n",
      "Best objective 8.415834000000e+06, best bound 8.415834000000e+06, gap 0.0000%\n",
      "\n",
      "---------------------------------------------------------------------------\n",
      "Multi-objectives: solved in 0.06 seconds (0.00 work units), solution count 2\n",
      "\n"
     ]
    }
   ],
   "source": [
    "initial_constraints = [['13255'], ['13115'], ['13097'], ['13135'], ['13217'], ['13245'], ['13297'], ['13031'], ['13095'], ['13151'], ['13121'], ['13077'], ['13073'], ['13157'], ['13185'], ['13275', '13277', '13075', '13205', '13131', '13027', '13071', '13321'], ['13113'], ['13103'], ['13127'], ['13179'], ['13215'], ['13247'], ['13063'], ['13153'], ['13051'], ['13223'], ['13285'], ['13117'], ['13059'], ['13057'], ['13089'], ['13045'], ['13013'], ['13047'], ['13067'], ['13313'], ['13295'], ['13021'], ['13139'], ['13015']]\n",
    "constraints = initial_constraints + [ W_fips ]\n",
    "\n",
    "from main import obj\n",
    "assert obj(GC, constraints, verbose=True) == 119"
   ]
  },
  {
   "cell_type": "code",
   "execution_count": null,
   "id": "2ffa73bf-aaa6-4750-8e2b-df93965410db",
   "metadata": {},
   "outputs": [],
   "source": []
  }
 ],
 "metadata": {
  "kernelspec": {
   "display_name": "Python 3 (ipykernel)",
   "language": "python",
   "name": "python3"
  },
  "language_info": {
   "codemirror_mode": {
    "name": "ipython",
    "version": 3
   },
   "file_extension": ".py",
   "mimetype": "text/x-python",
   "name": "python",
   "nbconvert_exporter": "python",
   "pygments_lexer": "ipython3",
   "version": "3.11.7"
  }
 },
 "nbformat": 4,
 "nbformat_minor": 5
}
