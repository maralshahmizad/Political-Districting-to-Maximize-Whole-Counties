{
 "cells": [
  {
   "cell_type": "code",
   "execution_count": 1,
   "id": "5bd83fcf-0be8-4919-aeb1-ea10c8bfbb4c",
   "metadata": {},
   "outputs": [],
   "source": [
    "state = 'FL'\n",
    "level = 'block'\n",
    "district_type = 'CD'"
   ]
  },
  {
   "cell_type": "code",
   "execution_count": 2,
   "id": "ac6a948c-e1ca-4e77-996d-b76f7e7742f5",
   "metadata": {},
   "outputs": [
    {
     "name": "stdout",
     "output_type": "stream",
     "text": [
      "Starting FL with k = 28 and deviation = 0.01\n",
      "Thus, we have L = 765375 and U = 773067\n"
     ]
    }
   ],
   "source": [
    "filepath = 'C:\\\\districting-data-2020-conn\\\\'\n",
    "filename = state + '_' + level + '.json'\n",
    "\n",
    "from utils import read_graph_from_json, update_attributes, get_k_L_U\n",
    "\n",
    "G = read_graph_from_json( filepath + filename )\n",
    "update_attributes(G, state)\n",
    "(k, L, U) = get_k_L_U(G, state, district_type)"
   ]
  },
  {
   "cell_type": "code",
   "execution_count": 3,
   "id": "bcc9b283-6aab-4705-9942-4fe9a17cb030",
   "metadata": {},
   "outputs": [
    {
     "name": "stdout",
     "output_type": "stream",
     "text": [
      "WARNING: edge (75173, 307126) has no shared_perim value. Assuming shared_perim = 0.\n",
      "WARNING: edge (130274, 294470) has no shared_perim value. Assuming shared_perim = 0.\n"
     ]
    }
   ],
   "source": [
    "from coarsen import graph_coarsen_by_county\n",
    "(GC, partition) = graph_coarsen_by_county(G)"
   ]
  },
  {
   "cell_type": "code",
   "execution_count": 4,
   "id": "8aa39c5d-d8e3-4e54-a1ef-a27a745a7239",
   "metadata": {},
   "outputs": [
    {
     "name": "stdout",
     "output_type": "stream",
     "text": [
      "Set parameter Username\n",
      "Academic license - for non-commercial use only - expires 2026-04-01\n",
      "Set parameter OutputFlag to value 1\n",
      "for i = 0, remaining_pop = 10744025, requiring at least 14 districts.\n",
      "for i = 1, remaining_pop = 2566365, requiring at least 4 districts.\n",
      "for i = 2, remaining_pop = 1786315, requiring at least 3 districts.\n",
      "Symmetry breaking stabilizes 5 districts using conflicting whole counties and 21 districts in split counties.\n",
      "Set parameter LazyConstraints to value 1\n",
      "Set parameter MIPGap to value 0.34\n",
      "Gurobi Optimizer version 12.0.2 build v12.0.2rc0 (win64 - Windows 11.0 (26100.2))\n",
      "\n",
      "CPU model: 13th Gen Intel(R) Core(TM) i9-13900K, instruction set [SSE2|AVX|AVX2]\n",
      "Thread count: 24 physical cores, 32 logical processors, using up to 32 threads\n",
      "\n",
      "Non-default parameters:\n",
      "MIPGap  0.34\n",
      "LazyConstraints  1\n",
      "\n",
      "Optimize a model with 2037 rows, 1121 columns and 7355 nonzeros\n",
      "Model fingerprint: 0xe4718ba9\n",
      "Variable types: 280 continuous, 841 integer (831 binary)\n",
      "Coefficient statistics:\n",
      "  Matrix range     [1e+00, 1e+07]\n",
      "  Objective range  [1e+00, 1e+00]\n",
      "  Bounds range     [1e+00, 2e+01]\n",
      "  RHS range        [1e+00, 8e+05]\n",
      "Presolve removed 1992 rows and 1079 columns\n",
      "Presolve time: 0.01s\n",
      "Presolved: 45 rows, 42 columns, 123 nonzeros\n",
      "Variable types: 35 continuous, 7 integer (7 binary)\n",
      "\n",
      "Cutting planes:\n",
      "  Lazy constraints: 1\n",
      "\n",
      "Explored 1 nodes (0 simplex iterations) in 0.01 seconds (0.00 work units)\n",
      "Thread count was 32 (of 32 available processors)\n",
      "\n",
      "Solution count 0\n",
      "No other solutions better than -1e+100\n",
      "\n",
      "Model is infeasible\n",
      "Best objective -, best bound -, gap -\n",
      "\n",
      "User-callback calls 592, time in user-callback 0.01 sec\n",
      "Gurobi Optimizer version 12.0.2 build v12.0.2rc0 (win64 - Windows 11.0 (26100.2))\n",
      "\n",
      "CPU model: 13th Gen Intel(R) Core(TM) i9-13900K, instruction set [SSE2|AVX|AVX2]\n",
      "Thread count: 24 physical cores, 32 logical processors, using up to 32 threads\n",
      "\n",
      "Non-default parameters:\n",
      "MIPGap  0.34\n",
      "LazyConstraints  1\n",
      "\n",
      "Optimize a model with 2017 rows, 1121 columns and 6813 nonzeros\n",
      "Model fingerprint: 0xa7519cd0\n",
      "Variable types: 280 continuous, 841 integer (831 binary)\n",
      "Coefficient statistics:\n",
      "  Matrix range     [1e+00, 1e+07]\n",
      "  Objective range  [1e+00, 1e+00]\n",
      "  Bounds range     [1e+00, 2e+01]\n",
      "  RHS range        [1e+00, 8e+05]\n",
      "Presolve removed 1972 rows and 1078 columns\n",
      "Presolve time: 0.00s\n",
      "Presolved: 45 rows, 43 columns, 122 nonzeros\n",
      "Variable types: 35 continuous, 8 integer (7 binary)\n",
      "\n",
      "Cutting planes:\n",
      "  Lazy constraints: 1\n",
      "\n",
      "Explored 1 nodes (0 simplex iterations) in 0.01 seconds (0.00 work units)\n",
      "Thread count was 32 (of 32 available processors)\n",
      "\n",
      "Solution count 0\n",
      "No other solutions better than -1e+100\n",
      "\n",
      "Model is infeasible\n",
      "Best objective -, best bound -, gap -\n",
      "\n",
      "User-callback calls 558, time in user-callback 0.00 sec\n"
     ]
    }
   ],
   "source": [
    "# ad-hoc inequality for FL/CD says must split one of:\n",
    "# Volusia 12127\n",
    "# Lake 12069\n",
    "# Sumter 12119\n",
    "# Hernando 12053\n",
    "# Pasco 12101\n",
    "# Polk 12105\n",
    "# Manatee 12081\n",
    "W_fips = {'12127', '12069', '12119', '12053', '12101', '12105', '12081'}\n",
    "W = [ i for i in GC.nodes if GC.nodes[i]['GEOID20'] in W_fips ]\n",
    "\n",
    "from sketch_for_max_whole import sketch\n",
    "soln = sketch(GC, L, U, k, whole_counties=W, verbose=True)\n",
    "\n",
    "assert soln == 'infeasible'"
   ]
  },
  {
   "cell_type": "code",
   "execution_count": 5,
   "id": "108b697a-8773-41d2-9264-9c99fbdf8370",
   "metadata": {},
   "outputs": [
    {
     "name": "stdout",
     "output_type": "stream",
     "text": [
      "Set parameter OutputFlag to value 1\n",
      "Gurobi Optimizer version 12.0.2 build v12.0.2rc0 (win64 - Windows 11.0 (26100.2))\n",
      "\n",
      "CPU model: 13th Gen Intel(R) Core(TM) i9-13900K, instruction set [SSE2|AVX|AVX2]\n",
      "Thread count: 24 physical cores, 32 logical processors, using up to 32 threads\n",
      "\n",
      "Optimize a model with 10 rows, 67 columns and 19 nonzeros\n",
      "Model fingerprint: 0x920b9f7a\n",
      "Variable types: 0 continuous, 67 integer (67 binary)\n",
      "Coefficient statistics:\n",
      "  Matrix range     [1e+00, 1e+00]\n",
      "  Objective range  [1e+00, 3e+06]\n",
      "  Bounds range     [1e+00, 1e+00]\n",
      "  RHS range        [3e+00, 6e+00]\n",
      "\n",
      "---------------------------------------------------------------------------\n",
      "Multi-objectives: starting optimization with 2 objectives... \n",
      "---------------------------------------------------------------------------\n",
      "\n",
      "Multi-objectives: applying initial presolve...\n",
      "---------------------------------------------------------------------------\n",
      "\n",
      "Presolve removed 8 rows and 8 columns\n",
      "Presolve time: 0.00s\n",
      "Presolved: 2 rows, 59 columns, 11 nonzeros\n",
      "\n",
      "Multi-objectives: optimize objective 1 () ...\n",
      "---------------------------------------------------------------------------\n",
      "\n",
      "Found heuristic solution: objective 57.0000000\n",
      "Presolve removed 2 rows and 59 columns\n",
      "Presolve time: 0.00s\n",
      "Presolve: All rows and columns removed\n",
      "\n",
      "Explored 0 nodes (0 simplex iterations) in 0.01 seconds (0.00 work units)\n",
      "Thread count was 1 (of 32 available processors)\n",
      "\n",
      "Solution count 1: 57 \n",
      "\n",
      "Optimal solution found (tolerance 1.00e-04)\n",
      "Best objective 5.700000000000e+01, best bound 5.700000000000e+01, gap 0.0000%\n",
      "---------------------------------------------------------------------------\n",
      "\n",
      "Multi-objectives: optimize objective 2 () ...\n",
      "---------------------------------------------------------------------------\n",
      "\n",
      "\n",
      "Loaded user MIP start with objective 1.19873e+07\n",
      "\n",
      "Presolve removed 0 rows and 46 columns\n",
      "Presolve time: 0.00s\n",
      "Presolved: 3 rows, 13 columns, 24 nonzeros\n",
      "Variable types: 0 continuous, 13 integer (13 binary)\n",
      "\n",
      "Root relaxation: objective 1.254385e+07, 1 iterations, 0.00 seconds (0.00 work units)\n",
      "\n",
      "    Nodes    |    Current Node    |     Objective Bounds      |     Work\n",
      " Expl Unexpl |  Obj  Depth IntInf | Incumbent    BestBd   Gap | It/Node Time\n",
      "\n",
      "*    0     0               0    1.254385e+07 1.2544e+07  0.00%     -    0s\n",
      "\n",
      "Explored 1 nodes (1 simplex iterations) in 0.02 seconds (0.00 work units)\n",
      "Thread count was 32 (of 32 available processors)\n",
      "\n",
      "Solution count 2: 1.25439e+07 1.19873e+07 \n",
      "\n",
      "Optimal solution found (tolerance 1.00e-04)\n",
      "Best objective 1.254385000000e+07, best bound 1.254385000000e+07, gap 0.0000%\n",
      "\n",
      "---------------------------------------------------------------------------\n",
      "Multi-objectives: solved in 0.02 seconds (0.00 work units), solution count 2\n",
      "\n"
     ]
    }
   ],
   "source": [
    "initial_constraints = [['12095'], ['12103'], ['12031'], ['12131'], ['12086'], ['12011'], ['12071', '12021', '12015', '12051'], ['12099'], ['12057']]\n",
    "constraints = initial_constraints + [ W_fips ]\n",
    "\n",
    "from main import obj\n",
    "assert obj(GC, constraints, verbose=True) == 57"
   ]
  }
 ],
 "metadata": {
  "kernelspec": {
   "display_name": "Python 3 (ipykernel)",
   "language": "python",
   "name": "python3"
  },
  "language_info": {
   "codemirror_mode": {
    "name": "ipython",
    "version": 3
   },
   "file_extension": ".py",
   "mimetype": "text/x-python",
   "name": "python",
   "nbconvert_exporter": "python",
   "pygments_lexer": "ipython3",
   "version": "3.11.7"
  }
 },
 "nbformat": 4,
 "nbformat_minor": 5
}
